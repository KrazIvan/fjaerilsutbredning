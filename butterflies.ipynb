{
 "cells": [
  {
   "cell_type": "markdown",
   "metadata": {},
   "source": [
    "# Initial setup"
   ]
  },
  {
   "cell_type": "code",
   "execution_count": null,
   "metadata": {},
   "outputs": [],
   "source": [
    "import csv\n",
    "import matplotlib.pyplot as plt\n",
    "import numpy as np\n",
    "from collections import defaultdict\n",
    "\n",
    "# Loads the data from the CSV file.\n",
    "years = {}\n",
    "northmost = {}\n",
    "latitudes = {}\n",
    "observations_by_year = {}\n",
    "with open(\"25_years_of_salgskimmer.csv\") as f:\n",
    "    reader = csv.reader(f)\n",
    "    next(reader) # Skips the first line in the CSV file.\n",
    "    for row in reader:\n",
    "        year = row[2][:4]\n",
    "        latitude = float(row[0])\n",
    "        if year not in years:\n",
    "            years[year] = []\n",
    "            northmost[year] = latitude\n",
    "            latitudes[year] = []\n",
    "        years[year].append(latitude)\n",
    "        latitudes[year].append(latitude)\n",
    "        northmost[year] = max(northmost[year], latitude)\n",
    "        if year not in observations_by_year:\n",
    "            observations_by_year[year] = 0\n",
    "        observations_by_year[year] += int(row[3])"
   ]
  },
  {
   "cell_type": "markdown",
   "metadata": {},
   "source": [
    "# At what rate has the purple emperor spread northward?\n",
    "\n",
    "The below code plots the northernmost latitude over time."
   ]
  },
  {
   "cell_type": "code",
   "execution_count": null,
   "metadata": {},
   "outputs": [],
   "source": [
    "years_list = list(years.keys())\n",
    "years_list.sort()\n",
    "northmost_list = [northmost[year] for year in years_list]\n",
    "plt.plot(years_list, northmost_list)\n",
    "plt.xlabel(\"Year\")\n",
    "plt.ylabel(\"Northernmost Latitude\")\n",
    "plt.title(\"Spread of Purple Emperor Butterflies (Northernmost Latitude Over Time)\", fontsize = 10)\n",
    "plt.tick_params(axis='x', which='major', labelsize=5)\n",
    "plt.tight_layout()\n",
    "plt.savefig(\"Purple Emperor Spread (Northernmost Latitude Over Time).pdf\")\n",
    "plt.show()\n",
    "plt.close()"
   ]
  },
  {
   "cell_type": "markdown",
   "metadata": {},
   "source": [
    "The below code plots the average latitude over time."
   ]
  },
  {
   "cell_type": "code",
   "execution_count": null,
   "metadata": {},
   "outputs": [],
   "source": [
    "average_latitudes = [np.mean(latitudes[year]) for year in years_list]\n",
    "plt.plot(years_list, average_latitudes)\n",
    "plt.xlabel(\"Year\")\n",
    "plt.ylabel(\"Average Latitude\")\n",
    "plt.title(\"Spread of Purple Emperor Butterflies (Average Latitude Over Time)\", fontsize = 10)\n",
    "plt.tick_params(axis='x', which='major', labelsize=5)\n",
    "plt.tight_layout()\n",
    "plt.savefig(\"Purple Emperor Spread (Average Latitude Over Time).pdf\")\n",
    "plt.show()\n",
    "plt.close()"
   ]
  },
  {
   "cell_type": "markdown",
   "metadata": {},
   "source": [
    "# How has the number of observations changed over time?\n",
    "\n",
    "The below code plots the number of observations over time."
   ]
  },
  {
   "cell_type": "code",
   "execution_count": null,
   "metadata": {},
   "outputs": [],
   "source": [
    "observations_list = [observations_by_year[year] for year in years_list]\n",
    "plt.bar(years_list, observations_list)\n",
    "plt.xlabel(\"Year\")\n",
    "plt.ylabel(\"Number of Observations\")\n",
    "plt.title(\"Number of Observations of Purple Emperor Butterflies in Sweden\")\n",
    "plt.tick_params(axis='x', which='major', labelsize=5)\n",
    "plt.tight_layout()\n",
    "plt.savefig(\"Purple Emperor Observations.pdf\")\n",
    "plt.show()\n",
    "plt.close()"
   ]
  },
  {
   "cell_type": "markdown",
   "metadata": {},
   "source": [
    "# When did the purple emperor arrive in Gotland?\n",
    "\n",
    "## Setup"
   ]
  },
  {
   "cell_type": "code",
   "execution_count": null,
   "metadata": {},
   "outputs": [],
   "source": [
    "data = []\n",
    "with open(\"25_years_of_salgskimmer.csv\", \"r\") as file:\n",
    "    reader = csv.reader(file)\n",
    "    header = next(reader) # Skips the first line in the CSV file.\n",
    "    for row in reader:\n",
    "        latitude = float(row[0])\n",
    "        longitude = float(row[1])\n",
    "        year = int(row[2][:4])\n",
    "        quantity = int(row[3])\n",
    "        data.append([latitude, longitude, year, quantity])"
   ]
  },
  {
   "cell_type": "markdown",
   "metadata": {},
   "source": [
    "Purple Emperor observations in Gotland (latitude: 57-58, longitude: 18-19,3)"
   ]
  },
  {
   "cell_type": "code",
   "execution_count": null,
   "metadata": {},
   "outputs": [],
   "source": [
    "gotland_data = [x for x in data if x[0] >= 57 and x[0] < 58 and x[1] >= 18 and x[1] <= 19.3]\n",
    "years = defaultdict(int)\n",
    "for row in gotland_data:\n",
    "    year = row[2]\n",
    "    quantity = row[3]\n",
    "    years[year] += quantity\n",
    "\n",
    "years = dict(sorted(years.items()))\n",
    "x = list(years.keys())\n",
    "y = list(years.values())\n",
    "\n",
    "plt.bar(x, y)\n",
    "plt.xlabel(\"Year\")\n",
    "plt.ylabel(\"Number of Observations\")\n",
    "plt.title(\"Purple Emperor Observations in Gotland\")\n",
    "plt.savefig(\"Purple Emperor Observations in Gotland.pdf\")\n",
    "plt.show()\n",
    "plt.close()"
   ]
  },
  {
   "cell_type": "markdown",
   "metadata": {},
   "source": [
    "Time of the year the Purple Emperor is active."
   ]
  },
  {
   "cell_type": "code",
   "execution_count": null,
   "metadata": {},
   "outputs": [],
   "source": [
    "latitude_to_months = defaultdict(lambda: defaultdict(int))\n",
    "for row in data:\n",
    "    latitude = row[0]\n",
    "    year = row[2]\n",
    "    month = row[2] % 12\n",
    "    quantity = row[3]\n",
    "    latitude_to_months[latitude][month] += quantity\n",
    "\n",
    "plt.figure()\n",
    "plt.title(\"Time of the year the Purple Emperor is active\")\n",
    "plt.xlabel(\"Month\")\n",
    "plt.ylabel(\"Number of observations\")\n",
    "for latitude, months in latitude_to_months.items():\n",
    "    x = list(months.keys())\n",
    "    y = list(months.values())\n",
    "    plt.plot(x, y)\n",
    "\n",
    "plt.savefig(\"Time of the year the Purple Emperor is active.pdf\")\n",
    "plt.show()\n",
    "plt.close()"
   ]
  }
 ],
 "metadata": {
  "language_info": {
   "name": "python"
  },
  "orig_nbformat": 4
 },
 "nbformat": 4,
 "nbformat_minor": 2
}
